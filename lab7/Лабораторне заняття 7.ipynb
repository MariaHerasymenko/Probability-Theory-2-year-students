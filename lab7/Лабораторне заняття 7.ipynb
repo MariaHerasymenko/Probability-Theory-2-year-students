{
 "cells": [
  {
   "cell_type": "markdown",
   "metadata": {},
   "source": [
    "# Лабораторне заняття №7"
   ]
  },
  {
   "cell_type": "markdown",
   "metadata": {},
   "source": [
    "# Перетворення випадкових величин\n",
    "На цьому занятті ми реалізуємо перетворення випадкових величин із розглянутих раніше розподілів, які реалізовані в бібліотеці [SciPy](https://docs.scipy.org/doc/scipy/reference/).\n",
    "Із цього пакету будемо використовувати клас [scipy.stats](https://docs.scipy.org/doc/scipy/reference/stats.html), в якому реалізована велика кількість імовірнісних розподілів і статистичних функцій.\n",
    "\n",
    "Для візуалізації використаємо бібліотеку [Matplotlib](https://matplotlib.org/)."
   ]
  },
  {
   "cell_type": "code",
   "execution_count": 2,
   "metadata": {},
   "outputs": [],
   "source": [
    "import numpy as np\n",
    "import matplotlib.pyplot as plt"
   ]
  },
  {
   "cell_type": "markdown",
   "metadata": {},
   "source": [
    "## 1 Квантильне перетворення"
   ]
  },
  {
   "cell_type": "markdown",
   "metadata": {},
   "source": [
    "Справедливі два твердження про квантильне перетворення:\n",
    "1. Нехай випадкова величина $\\xi$ має неперервну функцію розподілу $F$.\n",
    "Тоді випадкова величина $\\eta = F(\\xi)$ має стандартний рівномірний розподіл:\n",
    "$F(\\xi) \\sim Unif(0, 1)$.\n",
    "2. Нехай $F$ - неперервна функція розподілу,\n",
    "випадкова величина $\\eta$ має стандартний рівномірний розподіл: $\\eta \\sim Unif(0, 1)$.\n",
    "Тоді випадкова величина $\\xi = F^{-1}(\\eta)$ має функцію розподілу $F$."
   ]
  },
  {
   "cell_type": "markdown",
   "metadata": {},
   "source": [
    "### 1.1 Експоненційний розподіл"
   ]
  },
  {
   "cell_type": "markdown",
   "metadata": {},
   "source": [
    "Реалізуйте перше твердження про квантильне перетворення для випадкової величини $\\xi \\sim Exp(1)$ з функцією розподілу $F$:\n",
    "- згенеруйте $n = 10000$ значень випадкової величини $\\xi$;\n",
    "- отримайте $n = 10000$ значень випадкової величини $F(\\xi)$;\n",
    "- намалюйте нормовану гістограму отриманих $n = 10000$ значень випадкової величини $F(\\xi)$;\n",
    "- намалюйте щільність стандартного рівномірного розподілу на тому ж графіку.\n",
    "\n",
    "Порівняйте форму нормованої гістограми та функції щільності.\n",
    "\n",
    "Що відбувається при збільшенні (зменшенні) кількості випадкових значень $n$?"
   ]
  },
  {
   "cell_type": "code",
   "execution_count": 3,
   "metadata": {},
   "outputs": [
    {
     "data": {
      "image/png": "[encoded data removed]",
      "text/plain": [
       "<Figure size 432x288 with 1 Axes>"
      ]
     },
     "metadata": {
      "needs_background": "light"
     },
     "output_type": "display_data"
    }
   ],
   "source": [
    "# Місце для Вашого коду\n",
    "from scipy.stats import expon, uniform\n",
    "\n",
    "n = 10000\n",
    "\n",
    "rv = expon(0, 1)\n",
    "rand = rv.rvs(size=n)\n",
    "rand2 = rv.pdf(rand)\n",
    "\n",
    "plt.hist(rand2, density=True)\n",
    "plt.plot(np.linspace(0, 1, 1000), uniform(0, 1).pdf(np.linspace(0, 1, 1000)))\n",
    "plt.show()\n"
   ]
  },
  {
   "cell_type": "markdown",
   "metadata": {},
   "source": [
    "Реалізуйте друге твердження про квантильне перетворення для випадкової величини $\\xi \\sim Exp(1)$ з функцією розподілу $F$:\n",
    "- згенеруйте $n = 10000$ значень випадкової величини $\\eta \\sim Unif(0, 1)$;\n",
    "- обчисліть функцію обернену до функції розподілу випадкової величини $\\xi$;\n",
    "- отримайте $n = 10000$ значень випадкової величини $F^{-1}(\\eta)$;\n",
    "- намалюйте нормовану гістограму отриманих $n = 10000$ значень випадкової величини $F^{-1}(\\eta)$;\n",
    "- намалюйте щільність випадкової величини $\\xi$ на тому ж графіку.\n",
    "\n",
    "Порівняйте форму нормованої гістограми та функції щільності.\n",
    "\n",
    "Що відбувається при збільшенні (зменшенні) кількості випадкових значень $n$?"
   ]
  },
  {
   "cell_type": "code",
   "execution_count": 4,
   "metadata": {},
   "outputs": [
    {
     "data": {
      "text/plain": [
       "[<matplotlib.lines.Line2D at 0x200bc28f948>]"
      ]
     },
     "execution_count": 4,
     "metadata": {},
     "output_type": "execute_result"
    },
    {
     "data": {
      "image/png": "[encoded data removed]",
      "text/plain": [
       "<Figure size 432x288 with 1 Axes>"
      ]
     },
     "metadata": {
      "needs_background": "light"
     },
     "output_type": "display_data"
    }
   ],
   "source": [
    "# Місце для Вашого коду\n",
    "def reverse(x):\n",
    "    return -np.log(1 - x)\n",
    "\n",
    "\n",
    "rand = uniform(0, 1).rvs(size=n)\n",
    "rand2 = reverse(rand)\n",
    "\n",
    "plt.hist(rand2, density=True)\n",
    "plt.plot(np.linspace(-10, 10, 1000), rv.pdf(np.linspace(-10, 10, 1000)))\n",
    "\n"
   ]
  },
  {
   "cell_type": "markdown",
   "metadata": {},
   "source": [
    "### 1.2 Квантиль"
   ]
  },
  {
   "cell_type": "markdown",
   "metadata": {},
   "source": [
    "Нехай $F$ - функція розпділу деякої випадкової величини $\\xi$, $\\alpha \\in [0, 1]$.\n",
    "\n",
    "Квантиль рівня $\\alpha$ - це таке число $x_{\\alpha}$, що\n",
    "$$F \\left(x_{\\alpha}\\right) = \\mathsf{P}\\left(\\xi < x_{\\alpha}\\right) = \\alpha.$$\n",
    "\n",
    "Інший варіант визначення. Нехай $Q(\\alpha)$ - це квантиль рівня $\\alpha$. Тоді\n",
    "$$Q(\\alpha) = \\inf \\left\\{ x \\in \\mathbb{R} \\, \\colon \\, \\alpha < F(x) \\right\\}.$$\n",
    "\n",
    "Якщо $F$ - неперервна та строго зростає, то\n",
    "$$Q = F^{-1}.$$"
   ]
  },
  {
   "cell_type": "markdown",
   "metadata": {},
   "source": [
    "Для розподілів із класу **scipy.stats** функція квантилю реалізована методом **ppf**."
   ]
  },
  {
   "cell_type": "markdown",
   "metadata": {},
   "source": [
    "Наприклад, для експоненційного розподілу маємо (детальна інформація в [документації](https://docs.scipy.org/doc/scipy/reference/generated/scipy.stats.expon.html)):"
   ]
  },
  {
   "cell_type": "code",
   "execution_count": 5,
   "metadata": {},
   "outputs": [
    {
     "name": "stdout",
     "output_type": "stream",
     "text": [
      "[0.         0.10536052 0.22314355 0.35667494 0.51082562 0.69314718\n",
      " 0.91629073 1.2039728  1.60943791 2.30258509        inf]\n",
      "[0.  0.1 0.2 0.3 0.4 0.5 0.6 0.7 0.8 0.9 1. ]\n"
     ]
    }
   ],
   "source": [
    "from scipy.stats import expon\n",
    "\n",
    "q = np.arange(0, 1.1, 0.1)\n",
    "f_q = expon.ppf(q, loc=0, scale=1)\n",
    "print(f_q)\n",
    "\n",
    "qq = expon.cdf(f_q, loc=0, scale=1)\n",
    "print(qq)"
   ]
  },
  {
   "cell_type": "markdown",
   "metadata": {},
   "source": [
    "Для випадкової величини $\\xi \\sim Exp(1)$ застосуйте метод **ppf** до згенерованих раніше $n = 10000$ значень випадкової величини $\\eta \\sim Unif(0, 1)$.\n",
    "Порівняйте ці значення з отриманими раніше $n = 10000$ значеннями випадкової величини $F^{-1}(\\eta)$ за допомогою оберненої функції розподілу, яку Ви обчислювали.\n",
    "\n",
    "**Зауваження.** В прикладі нижче:\n",
    "- `xi` - це випадкова величина зі стандартного експоненційного розподілу ($\\lambda = 1$);\n",
    "- `eta_rvs` - $10000$ випадкових значень зі стандартного рівномірного розподілу;\n",
    "- `f_eta_rvs` - значення оберненої до функції розподілу стандартного експоненційного розподілу в точках `eta_rvs`."
   ]
  },
  {
   "cell_type": "code",
   "execution_count": 6,
   "metadata": {},
   "outputs": [
    {
     "ename": "NameError",
     "evalue": "name 'f_eta_rvs' is not defined",
     "output_type": "error",
     "traceback": [
      "\u001b[1;31m---------------------------------------------------------------------------\u001b[0m",
      "\u001b[1;31mNameError\u001b[0m                                 Traceback (most recent call last)",
      "\u001b[1;32m<ipython-input-6-f28e7ab86f7d>\u001b[0m in \u001b[0;36m<module>\u001b[1;34m\u001b[0m\n\u001b[1;32m----> 1\u001b[1;33m \u001b[0mprint\u001b[0m\u001b[1;33m(\u001b[0m\u001b[1;34m\"Number of different values = {}\"\u001b[0m\u001b[1;33m.\u001b[0m\u001b[0mformat\u001b[0m\u001b[1;33m(\u001b[0m\u001b[0msum\u001b[0m\u001b[1;33m(\u001b[0m\u001b[0mf_eta_rvs\u001b[0m \u001b[1;33m!=\u001b[0m \u001b[0mxi\u001b[0m\u001b[1;33m.\u001b[0m\u001b[0mppf\u001b[0m\u001b[1;33m(\u001b[0m\u001b[0meta_rvs\u001b[0m\u001b[1;33m)\u001b[0m\u001b[1;33m)\u001b[0m\u001b[1;33m)\u001b[0m\u001b[1;33m)\u001b[0m\u001b[1;33m\u001b[0m\u001b[1;33m\u001b[0m\u001b[0m\n\u001b[0m\u001b[0;32m      2\u001b[0m \u001b[0mprint\u001b[0m\u001b[1;33m(\u001b[0m\u001b[1;34m\"Number of values that differ more than 10^{} = {}\"\u001b[0m\u001b[1;33m.\u001b[0m\u001b[0mformat\u001b[0m\u001b[1;33m(\u001b[0m\u001b[1;34m\"{-10}\"\u001b[0m\u001b[1;33m,\u001b[0m \u001b[0msum\u001b[0m\u001b[1;33m(\u001b[0m\u001b[0mf_eta_rvs\u001b[0m \u001b[1;33m-\u001b[0m \u001b[0mxi\u001b[0m\u001b[1;33m.\u001b[0m\u001b[0mppf\u001b[0m\u001b[1;33m(\u001b[0m\u001b[0meta_rvs\u001b[0m\u001b[1;33m)\u001b[0m \u001b[1;33m>\u001b[0m \u001b[1;36m10\u001b[0m\u001b[1;33m**\u001b[0m\u001b[1;33m(\u001b[0m\u001b[1;33m-\u001b[0m\u001b[1;36m10\u001b[0m\u001b[1;33m)\u001b[0m\u001b[1;33m)\u001b[0m\u001b[1;33m)\u001b[0m\u001b[1;33m)\u001b[0m\u001b[1;33m\u001b[0m\u001b[1;33m\u001b[0m\u001b[0m\n",
      "\u001b[1;31mNameError\u001b[0m: name 'f_eta_rvs' is not defined"
     ]
    }
   ],
   "source": [
    "print(\"Number of different values = {}\".format(sum(f_eta_rvs != xi.ppf(eta_rvs))))\n",
    "print(\"Number of values that differ more than 10^{} = {}\".format(\"{-10}\", sum(f_eta_rvs - xi.ppf(eta_rvs) > 10**(-10))))"
   ]
  },
  {
   "cell_type": "markdown",
   "metadata": {},
   "source": [
    "Реалізуйте друге твердження про квантильне перетворення для випадкової величини $\\xi \\sim Exp(1)$ з використанням вбудованого методу квантильної функції:\n",
    "- візьміть згенеровані раніше $n = 10000$ значень випадкової величини $\\eta \\sim Unif(0, 1)$;\n",
    "- отримайте $n = 10000$ значень випадкової величини $F^{-1}(\\eta)$ за допомогою методу **ppf**;\n",
    "- намалюйте нормовану гістограму отриманих $n = 10000$ значень випадкової величини $F^{-1}(\\eta)$;\n",
    "- намалюйте щільність випадкової величини $\\xi$ на тому ж графіку.\n",
    "\n",
    "Порівняйте даний графік з отриманим раніше."
   ]
  },
  {
   "cell_type": "code",
   "execution_count": 7,
   "metadata": {},
   "outputs": [],
   "source": [
    "# Місце для Вашого коду\n",
    "\n"
   ]
  },
  {
   "cell_type": "markdown",
   "metadata": {},
   "source": [
    "## 2 Модуль від випадкової величини"
   ]
  },
  {
   "cell_type": "markdown",
   "metadata": {},
   "source": [
    "### 2.1 Нормальний розподіл"
   ]
  },
  {
   "cell_type": "markdown",
   "metadata": {},
   "source": [
    "Розглянемо випадкову величину $\\xi$ зі стандартного нормального розподілу.\n",
    "Тобто $\\xi \\sim N(0, 1)$.\n",
    "\n",
    "1. Згенеруйте $n = 10000$ значень випадкової величини $\\xi$;\n",
    "2. Реалізуйте 2 сабплоти в одному рядку;\n",
    "3. На першому сабплоті намалюйте:\n",
    "   - нормовану гістограму згенерованих $n = 10000$ значень випадкової величини $\\xi$;\n",
    "   - функцію щільності випадкової величини $\\xi$;\n",
    "4. Отримайте $n = 10000$ значень випадкової величини $|\\xi|$ (застосуйте функцію модуль до згенерованих $n = 10000$ значень випадкової величини $\\xi$);\n",
    "5. На другому сабплоті намалюйте:\n",
    "   - нормовану гістограму отриманих $n = 10000$ значень випадкової величини $|\\xi|$;\n",
    "   - функцію щільності випадкової величини $\\xi$;\n",
    "   - функцію щільності випадкової величини $|\\xi|$."
   ]
  },
  {
   "cell_type": "code",
   "execution_count": 8,
   "metadata": {},
   "outputs": [
    {
     "data": {
      "text/plain": [
       "[<matplotlib.lines.Line2D at 0x200bc4d8e08>]"
      ]
     },
     "execution_count": 8,
     "metadata": {},
     "output_type": "execute_result"
    },
    {
     "data": {
      "image/png": "[encoded data removed]",
      "text/plain": [
       "<Figure size 1440x360 with 2 Axes>"
      ]
     },
     "metadata": {
      "needs_background": "light"
     },
     "output_type": "display_data"
    }
   ],
   "source": [
    "# Місце для Вашого коду\n",
    "from scipy.stats import norm\n",
    "\n",
    "\n",
    "xn = norm.rvs(size=100000)\n",
    "fig, axs = plt.subplots(1, 2, figsize=(20, 5))\n",
    "\n",
    "axs[0].hist(xn, density=True, bins=100)\n",
    "axs[0].plot(np.linspace(-5, 5, 100), norm.pdf(np.linspace(-5, 5, 100)))\n",
    "\n",
    "axs[1].hist(abs(xn), density=True, bins=100)\n",
    "axs[1].plot(abs(np.linspace(-5, 5, 100)), abs(norm.pdf(abs(np.linspace(-5, 5, 100)))))\n",
    "# plt.hist(xn)\n",
    "# plt.show()normal=True\n"
   ]
  },
  {
   "cell_type": "markdown",
   "metadata": {},
   "source": [
    "### 2.2 Рівномірний розподіл"
   ]
  },
  {
   "cell_type": "markdown",
   "metadata": {},
   "source": [
    "Розглянемо випадкову величину $\\xi$ з рівномірного розподілу на $[-1, 4]$.\n",
    "Тобто $\\xi \\sim Unif(-1, 4)$.\n",
    "\n",
    "1. Згенеруйте $n = 10000$ значень випадкової величини $\\xi$;\n",
    "2. Реалізуйте 2 сабплоти в одному рядку;\n",
    "3. На першому сабплоті намалюйте:\n",
    "   - нормовану гістограму згенерованих $n = 10000$ значень випадкової величини $\\xi$;\n",
    "   - функцію щільності випадкової величини $\\xi$;\n",
    "4. Отримайте $n = 10000$ значень випадкової величини $|\\xi|$ (застосуйте функцію модуль до згенерованих $n = 10000$ значень випадкової величини $\\xi$);\n",
    "5. На другому сабплоті намалюйте:\n",
    "   - нормовану гістограму отриманих $n = 10000$ значень випадкової величини $|\\xi|$;\n",
    "   - функцію щільності випадкової величини $\\xi$;\n",
    "   - функцію щільності випадкової величини $|\\xi|$."
   ]
  },
  {
   "cell_type": "code",
   "execution_count": 9,
   "metadata": {},
   "outputs": [],
   "source": [
    "# Місце для Вашого коду\n",
    "\n"
   ]
  },
  {
   "cell_type": "markdown",
   "metadata": {},
   "source": [
    "### 2.3 Експоненційний розподіл"
   ]
  },
  {
   "cell_type": "markdown",
   "metadata": {},
   "source": [
    "Розглянемо випадкову величину $\\xi$ зі стандартного експоненційного розподілу.\n",
    "Тобто $\\xi \\sim Exp(1)$.\n",
    "\n",
    "1. Згенеруйте $n = 10000$ значень випадкової величини $\\xi$;\n",
    "2. Реалізуйте 2 сабплоти в одному рядку;\n",
    "3. На першому сабплоті намалюйте:\n",
    "   - нормовану гістограму згенерованих $n = 10000$ значень випадкової величини $\\xi$;\n",
    "   - функцію щільності випадкової величини $\\xi$;\n",
    "4. Отримайте $n = 10000$ значень випадкової величини $|\\xi - 1|$ (застосуйте функцію модуль до згенерованих $n = 10000$ значень випадкової величини $\\xi$);\n",
    "5. На другому сабплоті намалюйте:\n",
    "   - нормовану гістограму отриманих $n = 10000$ значень випадкової величини $|\\xi - 1|$;\n",
    "   - функцію щільності випадкової величини $\\xi$;\n",
    "   - функцію щільності випадкової величини $|\\xi - 1|$."
   ]
  },
  {
   "cell_type": "code",
   "execution_count": 10,
   "metadata": {
    "scrolled": true
   },
   "outputs": [],
   "source": [
    "# Місце для Вашого коду\n",
    "\n"
   ]
  },
  {
   "cell_type": "markdown",
   "metadata": {},
   "source": [
    "## 3 Квадрат від випадкової величини"
   ]
  },
  {
   "cell_type": "markdown",
   "metadata": {},
   "source": [
    "### 3.1 Рівномірний розподіл"
   ]
  },
  {
   "cell_type": "markdown",
   "metadata": {},
   "source": [
    "Розглянемо випадкову величину $\\xi$ зі стандартного рівномірного розподілу.\n",
    "Тобто $\\xi \\sim Unif(0, 1)$.\n",
    "\n",
    "1. Згенеруйте $n = 10000$ значень випадкової величини $\\xi$;\n",
    "2. Реалізуйте 2 сабплоти в одному рядку;\n",
    "3. На першому сабплоті намалюйте:\n",
    "   - нормовану гістограму згенерованих $n = 10000$ значень випадкової величини $\\xi$;\n",
    "   - функцію щільності випадкової величини $\\xi$;\n",
    "4. Отримайте $n = 10000$ значень випадкової величини $\\xi^2$ (застосуйте функцію піднесення до квадрата до згенерованих $n = 10000$ значень випадкової величини $\\xi$);\n",
    "5. На другому сабплоті намалюйте:\n",
    "   - нормовану гістограму отриманих $n = 10000$ значень випадкової величини $\\xi^2$;\n",
    "   - функцію щільності випадкової величини $\\xi$;\n",
    "   - функцію щільності випадкової величини $\\xi^2$."
   ]
  },
  {
   "cell_type": "code",
   "execution_count": 11,
   "metadata": {},
   "outputs": [
    {
     "ename": "RuntimeError",
     "evalue": "Failed to converge after 100 iterations.",
     "output_type": "error",
     "traceback": [
      "\u001b[1;31m---------------------------------------------------------------------------\u001b[0m",
      "\u001b[1;31mRuntimeError\u001b[0m                              Traceback (most recent call last)",
      "\u001b[1;32m<ipython-input-11-980f54a5dc52>\u001b[0m in \u001b[0;36m<module>\u001b[1;34m\u001b[0m\n\u001b[0;32m     20\u001b[0m \u001b[0mx\u001b[0m \u001b[1;33m=\u001b[0m \u001b[0mnp\u001b[0m\u001b[1;33m.\u001b[0m\u001b[0marange\u001b[0m\u001b[1;33m(\u001b[0m\u001b[1;33m-\u001b[0m\u001b[1;36m2\u001b[0m\u001b[1;33m,\u001b[0m \u001b[1;36m2\u001b[0m\u001b[1;33m,\u001b[0m \u001b[1;36m0.1\u001b[0m\u001b[1;33m)\u001b[0m\u001b[1;33m\u001b[0m\u001b[1;33m\u001b[0m\u001b[0m\n\u001b[0;32m     21\u001b[0m \u001b[0mplt\u001b[0m\u001b[1;33m.\u001b[0m\u001b[0mplot\u001b[0m\u001b[1;33m(\u001b[0m\u001b[0mx\u001b[0m\u001b[1;33m,\u001b[0m \u001b[0mtmp\u001b[0m\u001b[1;33m.\u001b[0m\u001b[0mpdf\u001b[0m\u001b[1;33m(\u001b[0m\u001b[0mx\u001b[0m\u001b[1;33m)\u001b[0m\u001b[1;33m)\u001b[0m\u001b[1;33m\u001b[0m\u001b[1;33m\u001b[0m\u001b[0m\n\u001b[1;32m---> 22\u001b[1;33m \u001b[0mprint\u001b[0m\u001b[1;33m(\u001b[0m\u001b[0mtmp\u001b[0m\u001b[1;33m.\u001b[0m\u001b[0mrvs\u001b[0m\u001b[1;33m(\u001b[0m\u001b[0msize\u001b[0m\u001b[1;33m=\u001b[0m\u001b[1;36m10\u001b[0m\u001b[1;33m)\u001b[0m\u001b[1;33m)\u001b[0m\u001b[1;33m\u001b[0m\u001b[1;33m\u001b[0m\u001b[0m\n\u001b[0m",
      "\u001b[1;32mC:\\anaconda\\lib\\site-packages\\scipy\\stats\\_distn_infrastructure.py\u001b[0m in \u001b[0;36mrvs\u001b[1;34m(self, *args, **kwds)\u001b[0m\n\u001b[0;32m    974\u001b[0m         \u001b[1;31m# by _rvs().\u001b[0m\u001b[1;33m\u001b[0m\u001b[1;33m\u001b[0m\u001b[1;33m\u001b[0m\u001b[0m\n\u001b[0;32m    975\u001b[0m         \u001b[0mself\u001b[0m\u001b[1;33m.\u001b[0m\u001b[0m_size\u001b[0m \u001b[1;33m=\u001b[0m \u001b[0msize\u001b[0m\u001b[1;33m\u001b[0m\u001b[1;33m\u001b[0m\u001b[0m\n\u001b[1;32m--> 976\u001b[1;33m         \u001b[0mvals\u001b[0m \u001b[1;33m=\u001b[0m \u001b[0mself\u001b[0m\u001b[1;33m.\u001b[0m\u001b[0m_rvs\u001b[0m\u001b[1;33m(\u001b[0m\u001b[1;33m*\u001b[0m\u001b[0margs\u001b[0m\u001b[1;33m)\u001b[0m\u001b[1;33m\u001b[0m\u001b[1;33m\u001b[0m\u001b[0m\n\u001b[0m\u001b[0;32m    977\u001b[0m \u001b[1;33m\u001b[0m\u001b[0m\n\u001b[0;32m    978\u001b[0m         \u001b[0mvals\u001b[0m \u001b[1;33m=\u001b[0m \u001b[0mvals\u001b[0m \u001b[1;33m*\u001b[0m \u001b[0mscale\u001b[0m \u001b[1;33m+\u001b[0m \u001b[0mloc\u001b[0m\u001b[1;33m\u001b[0m\u001b[1;33m\u001b[0m\u001b[0m\n",
      "\u001b[1;32mC:\\anaconda\\lib\\site-packages\\scipy\\stats\\_distn_infrastructure.py\u001b[0m in \u001b[0;36m_rvs\u001b[1;34m(self, *args)\u001b[0m\n\u001b[0;32m    909\u001b[0m         \u001b[1;31m## Use basic inverse cdf algorithm for RV generation as default.\u001b[0m\u001b[1;33m\u001b[0m\u001b[1;33m\u001b[0m\u001b[1;33m\u001b[0m\u001b[0m\n\u001b[0;32m    910\u001b[0m         \u001b[0mU\u001b[0m \u001b[1;33m=\u001b[0m \u001b[0mself\u001b[0m\u001b[1;33m.\u001b[0m\u001b[0m_random_state\u001b[0m\u001b[1;33m.\u001b[0m\u001b[0mrandom_sample\u001b[0m\u001b[1;33m(\u001b[0m\u001b[0mself\u001b[0m\u001b[1;33m.\u001b[0m\u001b[0m_size\u001b[0m\u001b[1;33m)\u001b[0m\u001b[1;33m\u001b[0m\u001b[1;33m\u001b[0m\u001b[0m\n\u001b[1;32m--> 911\u001b[1;33m         \u001b[0mY\u001b[0m \u001b[1;33m=\u001b[0m \u001b[0mself\u001b[0m\u001b[1;33m.\u001b[0m\u001b[0m_ppf\u001b[0m\u001b[1;33m(\u001b[0m\u001b[0mU\u001b[0m\u001b[1;33m,\u001b[0m \u001b[1;33m*\u001b[0m\u001b[0margs\u001b[0m\u001b[1;33m)\u001b[0m\u001b[1;33m\u001b[0m\u001b[1;33m\u001b[0m\u001b[0m\n\u001b[0m\u001b[0;32m    912\u001b[0m         \u001b[1;32mreturn\u001b[0m \u001b[0mY\u001b[0m\u001b[1;33m\u001b[0m\u001b[1;33m\u001b[0m\u001b[0m\n\u001b[0;32m    913\u001b[0m \u001b[1;33m\u001b[0m\u001b[0m\n",
      "\u001b[1;32mC:\\anaconda\\lib\\site-packages\\scipy\\stats\\_distn_infrastructure.py\u001b[0m in \u001b[0;36m_ppf\u001b[1;34m(self, q, *args)\u001b[0m\n\u001b[0;32m    922\u001b[0m \u001b[1;33m\u001b[0m\u001b[0m\n\u001b[0;32m    923\u001b[0m     \u001b[1;32mdef\u001b[0m \u001b[0m_ppf\u001b[0m\u001b[1;33m(\u001b[0m\u001b[0mself\u001b[0m\u001b[1;33m,\u001b[0m \u001b[0mq\u001b[0m\u001b[1;33m,\u001b[0m \u001b[1;33m*\u001b[0m\u001b[0margs\u001b[0m\u001b[1;33m)\u001b[0m\u001b[1;33m:\u001b[0m\u001b[1;33m\u001b[0m\u001b[1;33m\u001b[0m\u001b[0m\n\u001b[1;32m--> 924\u001b[1;33m         \u001b[1;32mreturn\u001b[0m \u001b[0mself\u001b[0m\u001b[1;33m.\u001b[0m\u001b[0m_ppfvec\u001b[0m\u001b[1;33m(\u001b[0m\u001b[0mq\u001b[0m\u001b[1;33m,\u001b[0m \u001b[1;33m*\u001b[0m\u001b[0margs\u001b[0m\u001b[1;33m)\u001b[0m\u001b[1;33m\u001b[0m\u001b[1;33m\u001b[0m\u001b[0m\n\u001b[0m\u001b[0;32m    925\u001b[0m \u001b[1;33m\u001b[0m\u001b[0m\n\u001b[0;32m    926\u001b[0m     \u001b[1;32mdef\u001b[0m \u001b[0m_isf\u001b[0m\u001b[1;33m(\u001b[0m\u001b[0mself\u001b[0m\u001b[1;33m,\u001b[0m \u001b[0mq\u001b[0m\u001b[1;33m,\u001b[0m \u001b[1;33m*\u001b[0m\u001b[0margs\u001b[0m\u001b[1;33m)\u001b[0m\u001b[1;33m:\u001b[0m\u001b[1;33m\u001b[0m\u001b[1;33m\u001b[0m\u001b[0m\n",
      "\u001b[1;32mC:\\anaconda\\lib\\site-packages\\numpy\\lib\\function_base.py\u001b[0m in \u001b[0;36m__call__\u001b[1;34m(self, *args, **kwargs)\u001b[0m\n\u001b[0;32m   2089\u001b[0m             \u001b[0mvargs\u001b[0m\u001b[1;33m.\u001b[0m\u001b[0mextend\u001b[0m\u001b[1;33m(\u001b[0m\u001b[1;33m[\u001b[0m\u001b[0mkwargs\u001b[0m\u001b[1;33m[\u001b[0m\u001b[0m_n\u001b[0m\u001b[1;33m]\u001b[0m \u001b[1;32mfor\u001b[0m \u001b[0m_n\u001b[0m \u001b[1;32min\u001b[0m \u001b[0mnames\u001b[0m\u001b[1;33m]\u001b[0m\u001b[1;33m)\u001b[0m\u001b[1;33m\u001b[0m\u001b[1;33m\u001b[0m\u001b[0m\n\u001b[0;32m   2090\u001b[0m \u001b[1;33m\u001b[0m\u001b[0m\n\u001b[1;32m-> 2091\u001b[1;33m         \u001b[1;32mreturn\u001b[0m \u001b[0mself\u001b[0m\u001b[1;33m.\u001b[0m\u001b[0m_vectorize_call\u001b[0m\u001b[1;33m(\u001b[0m\u001b[0mfunc\u001b[0m\u001b[1;33m=\u001b[0m\u001b[0mfunc\u001b[0m\u001b[1;33m,\u001b[0m \u001b[0margs\u001b[0m\u001b[1;33m=\u001b[0m\u001b[0mvargs\u001b[0m\u001b[1;33m)\u001b[0m\u001b[1;33m\u001b[0m\u001b[1;33m\u001b[0m\u001b[0m\n\u001b[0m\u001b[0;32m   2092\u001b[0m \u001b[1;33m\u001b[0m\u001b[0m\n\u001b[0;32m   2093\u001b[0m     \u001b[1;32mdef\u001b[0m \u001b[0m_get_ufunc_and_otypes\u001b[0m\u001b[1;33m(\u001b[0m\u001b[0mself\u001b[0m\u001b[1;33m,\u001b[0m \u001b[0mfunc\u001b[0m\u001b[1;33m,\u001b[0m \u001b[0margs\u001b[0m\u001b[1;33m)\u001b[0m\u001b[1;33m:\u001b[0m\u001b[1;33m\u001b[0m\u001b[1;33m\u001b[0m\u001b[0m\n",
      "\u001b[1;32mC:\\anaconda\\lib\\site-packages\\numpy\\lib\\function_base.py\u001b[0m in \u001b[0;36m_vectorize_call\u001b[1;34m(self, func, args)\u001b[0m\n\u001b[0;32m   2165\u001b[0m                       for a in args]\n\u001b[0;32m   2166\u001b[0m \u001b[1;33m\u001b[0m\u001b[0m\n\u001b[1;32m-> 2167\u001b[1;33m             \u001b[0moutputs\u001b[0m \u001b[1;33m=\u001b[0m \u001b[0mufunc\u001b[0m\u001b[1;33m(\u001b[0m\u001b[1;33m*\u001b[0m\u001b[0minputs\u001b[0m\u001b[1;33m)\u001b[0m\u001b[1;33m\u001b[0m\u001b[1;33m\u001b[0m\u001b[0m\n\u001b[0m\u001b[0;32m   2168\u001b[0m \u001b[1;33m\u001b[0m\u001b[0m\n\u001b[0;32m   2169\u001b[0m             \u001b[1;32mif\u001b[0m \u001b[0mufunc\u001b[0m\u001b[1;33m.\u001b[0m\u001b[0mnout\u001b[0m \u001b[1;33m==\u001b[0m \u001b[1;36m1\u001b[0m\u001b[1;33m:\u001b[0m\u001b[1;33m\u001b[0m\u001b[1;33m\u001b[0m\u001b[0m\n",
      "\u001b[1;32mC:\\anaconda\\lib\\site-packages\\scipy\\stats\\_distn_infrastructure.py\u001b[0m in \u001b[0;36m_ppf_single\u001b[1;34m(self, q, *args)\u001b[0m\n\u001b[0;32m   1657\u001b[0m \u001b[1;33m\u001b[0m\u001b[0m\n\u001b[0;32m   1658\u001b[0m         return optimize.brentq(self._ppf_to_solve,\n\u001b[1;32m-> 1659\u001b[1;33m                                left, right, args=(q,)+args, xtol=self.xtol)\n\u001b[0m\u001b[0;32m   1660\u001b[0m \u001b[1;33m\u001b[0m\u001b[0m\n\u001b[0;32m   1661\u001b[0m     \u001b[1;31m# moment from definition\u001b[0m\u001b[1;33m\u001b[0m\u001b[1;33m\u001b[0m\u001b[1;33m\u001b[0m\u001b[0m\n",
      "\u001b[1;32mC:\\anaconda\\lib\\site-packages\\scipy\\optimize\\zeros.py\u001b[0m in \u001b[0;36mbrentq\u001b[1;34m(f, a, b, args, xtol, rtol, maxiter, full_output, disp)\u001b[0m\n\u001b[0;32m    773\u001b[0m     \u001b[1;32mif\u001b[0m \u001b[0mrtol\u001b[0m \u001b[1;33m<\u001b[0m \u001b[0m_rtol\u001b[0m\u001b[1;33m:\u001b[0m\u001b[1;33m\u001b[0m\u001b[1;33m\u001b[0m\u001b[0m\n\u001b[0;32m    774\u001b[0m         \u001b[1;32mraise\u001b[0m \u001b[0mValueError\u001b[0m\u001b[1;33m(\u001b[0m\u001b[1;34m\"rtol too small (%g < %g)\"\u001b[0m \u001b[1;33m%\u001b[0m \u001b[1;33m(\u001b[0m\u001b[0mrtol\u001b[0m\u001b[1;33m,\u001b[0m \u001b[0m_rtol\u001b[0m\u001b[1;33m)\u001b[0m\u001b[1;33m)\u001b[0m\u001b[1;33m\u001b[0m\u001b[1;33m\u001b[0m\u001b[0m\n\u001b[1;32m--> 775\u001b[1;33m     \u001b[0mr\u001b[0m \u001b[1;33m=\u001b[0m \u001b[0m_zeros\u001b[0m\u001b[1;33m.\u001b[0m\u001b[0m_brentq\u001b[0m\u001b[1;33m(\u001b[0m\u001b[0mf\u001b[0m\u001b[1;33m,\u001b[0m \u001b[0ma\u001b[0m\u001b[1;33m,\u001b[0m \u001b[0mb\u001b[0m\u001b[1;33m,\u001b[0m \u001b[0mxtol\u001b[0m\u001b[1;33m,\u001b[0m \u001b[0mrtol\u001b[0m\u001b[1;33m,\u001b[0m \u001b[0mmaxiter\u001b[0m\u001b[1;33m,\u001b[0m \u001b[0margs\u001b[0m\u001b[1;33m,\u001b[0m \u001b[0mfull_output\u001b[0m\u001b[1;33m,\u001b[0m \u001b[0mdisp\u001b[0m\u001b[1;33m)\u001b[0m\u001b[1;33m\u001b[0m\u001b[1;33m\u001b[0m\u001b[0m\n\u001b[0m\u001b[0;32m    776\u001b[0m     \u001b[1;32mreturn\u001b[0m \u001b[0mresults_c\u001b[0m\u001b[1;33m(\u001b[0m\u001b[0mfull_output\u001b[0m\u001b[1;33m,\u001b[0m \u001b[0mr\u001b[0m\u001b[1;33m)\u001b[0m\u001b[1;33m\u001b[0m\u001b[1;33m\u001b[0m\u001b[0m\n\u001b[0;32m    777\u001b[0m \u001b[1;33m\u001b[0m\u001b[0m\n",
      "\u001b[1;31mRuntimeError\u001b[0m: Failed to converge after 100 iterations."
     ]
    },
    {
     "data": {
      "image/png": "[encoded data removed]",
      "text/plain": [
       "<Figure size 432x288 with 1 Axes>"
      ]
     },
     "metadata": {
      "needs_background": "light"
     },
     "output_type": "display_data"
    }
   ],
   "source": [
    "# Місце для Вашого коду\n",
    "from scipy.stats import rv_continuous, uniform\n",
    "\n",
    "\n",
    "class rv(rv_continuous):\n",
    "    \n",
    "#     def __init__(self, a, b, *args, **kwargs):\n",
    "#         self._a = a\n",
    "#         self._b = b\n",
    "#         rv_continuous.__init__(self, *args, **kwargs)\n",
    "    \n",
    "    def _pdf(self, x):\n",
    "        try:\n",
    "            res = [1 if 0 <= i <= 1 else 0 for i in x]\n",
    "        except TypeError:\n",
    "            res = 1 if 0 <= x <= 1 else 0\n",
    "        return res\n",
    "    \n",
    "tmp = rv()\n",
    "x = np.arange(-2, 2, 0.1)\n",
    "plt.plot(x, tmp.pdf(x))\n",
    "print(tmp.rvs(size=10))\n"
   ]
  },
  {
   "cell_type": "markdown",
   "metadata": {},
   "source": [
    "### 3.2 Нормальний розподіл"
   ]
  },
  {
   "cell_type": "markdown",
   "metadata": {},
   "source": [
    "Розглянемо випадкову величину $\\xi$ зі стандартного нормального розподілу.\n",
    "Тобто $\\xi \\sim N(0, 1)$.\n",
    "\n",
    "1. Згенеруйте $n = 10000$ значень випадкової величини $\\xi$;\n",
    "2. Реалізуйте 2 сабплоти в одному рядку;\n",
    "3. На першому сабплоті намалюйте:\n",
    "   - нормовану гістограму згенерованих $n = 10000$ значень випадкової величини $\\xi$;\n",
    "   - функцію щільності випадкової величини $\\xi$;\n",
    "4. Отримайте $n = 10000$ значень випадкової величини $\\xi^2$ (застосуйте функцію піднесення до квадрата до згенерованих $n = 10000$ значень випадкової величини $\\xi$);\n",
    "5. На другому сабплоті намалюйте:\n",
    "   - нормовану гістограму отриманих $n = 10000$ значень випадкової величини $\\xi^2$;\n",
    "   - функцію щільності випадкової величини $\\xi$;\n",
    "   - функцію щільності випадкової величини $\\xi^2$;\n",
    "   - функцію щільності випадкової величини $\\eta \\sim \\chi^2_1$;\n",
    "   - функцію щільності випадкової величини $\\eta \\sim \\Gamma(1/2, 1/2)$."
   ]
  },
  {
   "cell_type": "code",
   "execution_count": 12,
   "metadata": {},
   "outputs": [],
   "source": [
    "# Місце для Вашого коду\n",
    "\n"
   ]
  },
  {
   "cell_type": "markdown",
   "metadata": {},
   "source": [
    "## 4 Відсутність пам'яті"
   ]
  },
  {
   "cell_type": "markdown",
   "metadata": {},
   "source": [
    "Розглянемо випадкову величину $\\xi$ зі стандартного експоненційного розподілу.\n",
    "Тобто $\\xi \\sim Exp(1)$.\n",
    "\n",
    "1. Згенеруйте $n = 10000$ значень випадкової величини $\\xi$;\n",
    "2. Реалізуйте 2 сабплоти в одному рядку;\n",
    "3. На першому сабплоті намалюйте:\n",
    "   - нормовану гістограму згенерованих $n = 10000$ значень випадкової величини $\\xi$;\n",
    "   - функцію щільності випадкової величини $\\xi$;\n",
    "4. Отримайте $n = 10000$ значень випадкової величини $\\eta = (\\xi - 1) I_{(\\xi - 1) \\geq 0}$;\n",
    "5. На другому сабплоті намалюйте:\n",
    "   - нормовану гістограму отриманих значень випадкової величини $\\eta$;\n",
    "   - функцію щільності випадкової величини $\\xi$."
   ]
  },
  {
   "cell_type": "code",
   "execution_count": 13,
   "metadata": {},
   "outputs": [],
   "source": [
    "# Місце для Вашого коду\n",
    "\n"
   ]
  },
  {
   "cell_type": "markdown",
   "metadata": {
    "collapsed": true
   },
   "source": [
    "## 5 Одиничний квадрат"
   ]
  },
  {
   "cell_type": "markdown",
   "metadata": {},
   "source": [
    "Реалізуйте вадкову величину рівномірно розподілену на одиничному квадраті.\n",
    "Тобто $\\xi = (x, y), \\quad x, y \\sim Unif(0, 1)$."
   ]
  },
  {
   "cell_type": "code",
   "execution_count": 14,
   "metadata": {},
   "outputs": [],
   "source": [
    "# Місце для Вашого коду\n",
    "\n"
   ]
  },
  {
   "cell_type": "markdown",
   "metadata": {},
   "source": [
    "Знайдіть функцію щільності випадкової величини $\\xi_1 = x + y$.\n",
    "Намалюйте її разом із нормованою гістограмою $n = 100000$ значень випадкової величини $\\xi_1$,\n",
    "отриманою перетвореннями випадкових величин $x, y$."
   ]
  },
  {
   "cell_type": "code",
   "execution_count": 12,
   "metadata": {},
   "outputs": [],
   "source": [
    "# Місце для Вашого коду\n",
    "\n"
   ]
  },
  {
   "cell_type": "markdown",
   "metadata": {},
   "source": [
    "Знайдіть функцію щільності випадкової величини $\\xi_2 = xy$.\n",
    "Намалюйте її разом із нормованою гістограмою $n = 100000$ значень випадкової величини $\\xi_2$,\n",
    "отриманою перетвореннями випадкових величин $x, y$."
   ]
  },
  {
   "cell_type": "code",
   "execution_count": 13,
   "metadata": {},
   "outputs": [],
   "source": [
    "# Місце для Вашого коду\n",
    "\n"
   ]
  },
  {
   "cell_type": "markdown",
   "metadata": {},
   "source": [
    "Знайдіть функцію щільності випадкової величини $\\xi_3 = \\min (x, y)$.\n",
    "Намалюйте її разом із нормованою гістограмою $n = 100000$ значень випадкової величини $\\xi_3$,\n",
    "отриманою перетвореннями випадкових величин $x, y$."
   ]
  },
  {
   "cell_type": "code",
   "execution_count": 14,
   "metadata": {},
   "outputs": [],
   "source": [
    "# Місце для Вашого коду\n",
    "\n"
   ]
  },
  {
   "cell_type": "code",
   "execution_count": null,
   "metadata": {
    "collapsed": true
   },
   "outputs": [],
   "source": []
  }
 ],
 "metadata": {
  "kernelspec": {
   "display_name": "Python 3",
   "language": "python",
   "name": "python3"
  },
  "language_info": {
   "codemirror_mode": {
    "name": "ipython",
    "version": 3
   },
   "file_extension": ".py",
   "mimetype": "text/x-python",
   "name": "python",
   "nbconvert_exporter": "python",
   "pygments_lexer": "ipython3",
   "version": "3.7.4"
  }
 },
 "nbformat": 4,
 "nbformat_minor": 1
}
