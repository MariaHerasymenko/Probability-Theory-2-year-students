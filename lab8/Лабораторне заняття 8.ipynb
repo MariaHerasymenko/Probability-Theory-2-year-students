{
 "cells": [
  {
   "cell_type": "markdown",
   "metadata": {},
   "source": [
    "# Лабораторне заняття №8"
   ]
  },
  {
   "cell_type": "markdown",
   "metadata": {},
   "source": [
    "# Перетворення випадкових величин та векторів\n",
    "На цьому занятті ми реалізуємо перетворення випадкових величин із розглянутих раніше розподілів, які реалізовані в бібліотеці [SciPy](https://docs.scipy.org/doc/scipy/reference/).\n",
    "Із цього пакету будемо використовувати клас [scipy.stats](https://docs.scipy.org/doc/scipy/reference/stats.html), в якому реалізована велика кількість імовірнісних розподілів і статистичних функцій.\n",
    "\n",
    "Для візуалізації використаємо бібліотеку [Matplotlib](https://matplotlib.org/)."
   ]
  },
  {
   "cell_type": "code",
   "execution_count": 2,
   "metadata": {},
   "outputs": [],
   "source": [
    "import numpy as np\n",
    "import matplotlib.pyplot as plt"
   ]
  },
  {
   "cell_type": "markdown",
   "metadata": {},
   "source": [
    "## 1 Експоненційний розподіл"
   ]
  },
  {
   "cell_type": "markdown",
   "metadata": {},
   "source": [
    "### 1.1 Завдання 1"
   ]
  },
  {
   "cell_type": "markdown",
   "metadata": {},
   "source": [
    "Розглянемо дві випадкові величини $\\xi_1, \\xi_2$ зі стандартного експоненційного розподілу.\n",
    "Тобто $\\xi_1, \\xi_2 \\sim Exp(1)$.\n",
    "\n",
    "Який розподіл має випадкова величина $\\eta = 2 \\min\\{ \\xi_1, \\xi_2 \\}$?\n",
    "1. Згенеруйте $n = 10000$ значень випадкових величин $\\xi_1, \\xi_2$;\n",
    "2. Отримайте $n = 10000$ значень випадкової величини $\\eta$;\n",
    "5. Зобразіть на графіку:\n",
    "   - нормовану гістограму отриманих $n = 10000$ значень випадкової величини $\\eta$;\n",
    "   - функцію щільності випадкової величини $\\eta$."
   ]
  },
  {
   "cell_type": "code",
   "execution_count": 3,
   "metadata": {},
   "outputs": [
    {
     "data": {
      "text/plain": [
       "(array([0.75552599, 0.57679941, 0.41161272, 0.29787763, 0.2139303 ,\n",
       "        0.11102712, 0.10831914, 0.08665531, 0.04061968, 0.03520372,\n",
       "        0.02707978, 0.00812394, 0.00812394, 0.01083191, 0.00812394,\n",
       "        0.00270798, 0.        , 0.00270798, 0.        , 0.00270798]),\n",
       " array([8.29410551e-04, 3.70108568e-01, 7.39387725e-01, 1.10866688e+00,\n",
       "        1.47794604e+00, 1.84722520e+00, 2.21650435e+00, 2.58578351e+00,\n",
       "        2.95506267e+00, 3.32434183e+00, 3.69362098e+00, 4.06290014e+00,\n",
       "        4.43217930e+00, 4.80145846e+00, 5.17073761e+00, 5.54001677e+00,\n",
       "        5.90929593e+00, 6.27857508e+00, 6.64785424e+00, 7.01713340e+00,\n",
       "        7.38641256e+00]),\n",
       " <a list of 20 Patch objects>)"
      ]
     },
     "execution_count": 3,
     "metadata": {},
     "output_type": "execute_result"
    },
    {
     "data": {
      "image/png": "[encoded data removed]",
      "text/plain": [
       "<Figure size 432x288 with 1 Axes>"
      ]
     },
     "metadata": {
      "needs_background": "light"
     },
     "output_type": "display_data"
    }
   ],
   "source": [
    "# Місце для Вашого коду\n",
    "from scipy.stats import expon\n",
    "\n",
    "rv = expon(0, 1)\n",
    "exp_rvs1 = rv.rvs(size=1000)\n",
    "exp_rvs2 = rv.rvs(size=1000)\n",
    "\n",
    "eta_rvs = [2 * min(a, b) for a, b in zip(exp_rvs1, exp_rvs2)]\n",
    "\n",
    "x = np.arange(0, 9, 0.2)\n",
    "y = np.exp(-x)\n",
    "plt.plot(x, y, 'r--')\n",
    "plt.hist(eta_rvs, rwidth=0.9, bins=20, density=True)"
   ]
  },
  {
   "cell_type": "markdown",
   "metadata": {},
   "source": [
    "### 1.2 Завдання 2"
   ]
  },
  {
   "cell_type": "markdown",
   "metadata": {},
   "source": [
    "Розглянемо дві випадкові величини $\\xi_1, \\xi_2$ зі стандартного експоненційного розподілу.\n",
    "Тобто $\\xi_1, \\xi_2 \\sim Exp(1)$.\n",
    "\n",
    "Який розподіл має випадкова величина $\\eta = \\max\\{ \\xi_1, \\xi_2 \\} - \\min\\{ \\xi_1, \\xi_2 \\}$?\n",
    "1. Згенеруйте $n = 10000$ значень випадкових величин $\\xi_1, \\xi_2$;\n",
    "2. Отримайте $n = 10000$ значень випадкової величини $\\eta$;\n",
    "5. Зобразіть на графіку:\n",
    "   - нормовану гістограму отриманих $n = 10000$ значень випадкової величини $\\eta$;\n",
    "   - функцію щільності випадкової величини $\\eta$."
   ]
  },
  {
   "cell_type": "code",
   "execution_count": 5,
   "metadata": {},
   "outputs": [
    {
     "data": {
      "text/plain": [
       "(array([9.16701942e-01, 7.05492412e-01, 5.63955736e-01, 4.28991970e-01,\n",
       "        3.78599655e-01, 2.81758771e-01, 2.44074083e-01, 1.73524842e-01,\n",
       "        1.34087378e-01, 1.16121422e-01, 8.41332566e-02, 7.36165996e-02,\n",
       "        5.03923152e-02, 4.95159271e-02, 3.63701057e-02, 2.76062248e-02,\n",
       "        2.32242844e-02, 1.92805380e-02, 1.31458213e-02, 1.27076273e-02,\n",
       "        1.13930452e-02, 7.44929876e-03, 5.25832854e-03, 6.57291067e-03,\n",
       "        3.50555236e-03, 3.50555236e-03, 2.19097022e-03, 2.19097022e-03,\n",
       "        4.38194045e-04, 1.75277618e-03, 1.75277618e-03, 0.00000000e+00,\n",
       "        0.00000000e+00, 8.76388090e-04, 4.38194045e-04, 0.00000000e+00,\n",
       "        0.00000000e+00, 0.00000000e+00, 4.38194045e-04, 8.76388090e-04]),\n",
       " array([1.53623241e-05, 2.28224762e-01, 4.56434162e-01, 6.84643562e-01,\n",
       "        9.12852962e-01, 1.14106236e+00, 1.36927176e+00, 1.59748116e+00,\n",
       "        1.82569056e+00, 2.05389996e+00, 2.28210936e+00, 2.51031876e+00,\n",
       "        2.73852816e+00, 2.96673756e+00, 3.19494696e+00, 3.42315636e+00,\n",
       "        3.65136576e+00, 3.87957516e+00, 4.10778456e+00, 4.33599396e+00,\n",
       "        4.56420336e+00, 4.79241276e+00, 5.02062216e+00, 5.24883156e+00,\n",
       "        5.47704096e+00, 5.70525036e+00, 5.93345976e+00, 6.16166916e+00,\n",
       "        6.38987856e+00, 6.61808796e+00, 6.84629736e+00, 7.07450676e+00,\n",
       "        7.30271616e+00, 7.53092556e+00, 7.75913496e+00, 7.98734436e+00,\n",
       "        8.21555376e+00, 8.44376316e+00, 8.67197255e+00, 8.90018195e+00,\n",
       "        9.12839135e+00]),\n",
       " <a list of 40 Patch objects>)"
      ]
     },
     "execution_count": 5,
     "metadata": {},
     "output_type": "execute_result"
    },
    {
     "data": {
      "image/png": "[encoded data removed]",
      "text/plain": [
       "<Figure size 432x288 with 1 Axes>"
      ]
     },
     "metadata": {
      "needs_background": "light"
     },
     "output_type": "display_data"
    }
   ],
   "source": [
    "# Місце для Вашого коду\n",
    "exp_rvs1 = expon.rvs(1, size=10_000)\n",
    "exp_rvs2 = expon.rvs(1, size=10_000)\n",
    "\n",
    "eta_rvs = [max(a, b) - min(a, b) for a, b in zip(exp_rvs1, exp_rvs2)]\n",
    "\n",
    "x = np.arange(0, 6, 0.1)\n",
    "y = np.exp(-x)\n",
    "\n",
    "plt.plot(x, y, 'r--')\n",
    "\n",
    "plt.hist(eta_rvs, rwidth=0.9, bins=40, density=True)\n",
    "\n"
   ]
  },
  {
   "cell_type": "markdown",
   "metadata": {},
   "source": [
    "### 1.3 Завдання 3"
   ]
  },
  {
   "cell_type": "markdown",
   "metadata": {},
   "source": [
    "Розглянемо дві випадкові величини $\\xi_1, \\xi_2$ зі стандартного експоненційного розподілу.\n",
    "Тобто $\\xi_1, \\xi_2 \\sim Exp(1)$.\n",
    "\n",
    "Який розподіл має випадкова величина $\\eta = \\left| \\xi_1 - \\xi_2 \\right|$?\n",
    "1. Згенеруйте $n = 10000$ значень випадкових величин $\\xi_1, \\xi_2$;\n",
    "2. Отримайте $n = 10000$ значень випадкової величини $\\eta$;\n",
    "5. Зобразіть на графіку:\n",
    "   - нормовану гістограму отриманих $n = 10000$ значень випадкової величини $\\eta$;\n",
    "   - функцію щільності випадкової величини $\\eta$."
   ]
  },
  {
   "cell_type": "code",
   "execution_count": 6,
   "metadata": {},
   "outputs": [
    {
     "data": {
      "text/plain": [
       "(array([9.30303878e-01, 6.99821202e-01, 5.52629589e-01, 4.36727211e-01,\n",
       "        3.53436149e-01, 3.18180673e-01, 2.13295631e-01, 1.89057491e-01,\n",
       "        1.56886869e-01, 1.10173363e-01, 8.50538363e-02, 7.22737262e-02,\n",
       "        4.93576667e-02, 5.42052946e-02, 3.12892351e-02, 3.39333958e-02,\n",
       "        2.24753661e-02, 2.15939792e-02, 1.18987232e-02, 1.10173363e-02,\n",
       "        1.36614970e-02, 6.61040178e-03, 5.72901488e-03, 6.16970833e-03,\n",
       "        5.72901488e-03, 5.72901488e-03, 2.64416071e-03, 1.32208036e-03,\n",
       "        1.32208036e-03, 8.81386905e-04, 8.81386905e-04, 8.81386905e-04,\n",
       "        4.40693452e-04, 4.40693452e-04, 0.00000000e+00, 4.40693452e-04,\n",
       "        0.00000000e+00, 0.00000000e+00, 0.00000000e+00, 4.40693452e-04]),\n",
       " array([2.45645251e-05, 2.26939667e-01, 4.53854770e-01, 6.80769873e-01,\n",
       "        9.07684975e-01, 1.13460008e+00, 1.36151518e+00, 1.58843028e+00,\n",
       "        1.81534539e+00, 2.04226049e+00, 2.26917559e+00, 2.49609069e+00,\n",
       "        2.72300580e+00, 2.94992090e+00, 3.17683600e+00, 3.40375111e+00,\n",
       "        3.63066621e+00, 3.85758131e+00, 4.08449641e+00, 4.31141152e+00,\n",
       "        4.53832662e+00, 4.76524172e+00, 4.99215682e+00, 5.21907193e+00,\n",
       "        5.44598703e+00, 5.67290213e+00, 5.89981724e+00, 6.12673234e+00,\n",
       "        6.35364744e+00, 6.58056254e+00, 6.80747765e+00, 7.03439275e+00,\n",
       "        7.26130785e+00, 7.48822295e+00, 7.71513806e+00, 7.94205316e+00,\n",
       "        8.16896826e+00, 8.39588337e+00, 8.62279847e+00, 8.84971357e+00,\n",
       "        9.07662867e+00]),\n",
       " <a list of 40 Patch objects>)"
      ]
     },
     "execution_count": 6,
     "metadata": {},
     "output_type": "execute_result"
    },
    {
     "data": {
      "image/png": "[encoded data removed]",
      "text/plain": [
       "<Figure size 432x288 with 1 Axes>"
      ]
     },
     "metadata": {
      "needs_background": "light"
     },
     "output_type": "display_data"
    }
   ],
   "source": [
    "# Місце для Вашого коду\n",
    "exp_rvs1 = expon.rvs(1, size=10_000)\n",
    "exp_rvs2 = expon.rvs(1, size=10_000)\n",
    "\n",
    "eta_rvs = [abs(a - b) for a, b in zip(exp_rvs1, exp_rvs2)]\n",
    "\n",
    "x = np.arange(0, 6, 0.1)\n",
    "y = np.exp(-x)\n",
    "\n",
    "plt.plot(x, y, 'r--')\n",
    "\n",
    "plt.hist(eta_rvs, rwidth=0.8, bins=40, density=True)\n"
   ]
  },
  {
   "cell_type": "markdown",
   "metadata": {},
   "source": [
    "## 2 Нормальний розподіл"
   ]
  },
  {
   "cell_type": "markdown",
   "metadata": {},
   "source": [
    "### 2.1 Сума нормальних"
   ]
  },
  {
   "cell_type": "markdown",
   "metadata": {},
   "source": [
    "Розглянемо дві випадкові величини $\\xi_1, \\xi_2$ зі стандартного нормального розподілу.\n",
    "Тобто $\\xi_1, \\xi_2 \\sim N(0, 1)$.\n",
    "\n",
    "Який розподіл має випадкова величина $\\eta = \\xi_1 + \\xi_2$?\n",
    "1. Згенеруйте $n = 10000$ значень випадкових величин $\\xi_1, \\xi_2$;\n",
    "2. Отримайте $n = 10000$ значень випадкової величини $\\eta$;\n",
    "5. Зобразіть на графіку:\n",
    "   - нормовану гістограму отриманих $n = 10000$ значень випадкової величини $\\eta$;\n",
    "   - функцію щільності випадкової величини $\\eta$."
   ]
  },
  {
   "cell_type": "code",
   "execution_count": 7,
   "metadata": {},
   "outputs": [
    {
     "data": {
      "text/plain": [
       "(array([0.00107837, 0.00071891, 0.00179728, 0.00323511, 0.0050324 ,\n",
       "        0.00862696, 0.0183323 , 0.02156741, 0.04313482, 0.05751309,\n",
       "        0.08698855, 0.10172628, 0.13875033, 0.16606905, 0.19230939,\n",
       "        0.23975769, 0.24874411, 0.27426554, 0.28648708, 0.27498446,\n",
       "        0.24910357, 0.24371172, 0.2030931 , 0.19374722, 0.15456643,\n",
       "        0.10639922, 0.08339398, 0.06614005, 0.04529156, 0.02947546,\n",
       "        0.01869175, 0.01294045, 0.00862696, 0.00467294, 0.00215674,\n",
       "        0.00071891, 0.        , 0.        , 0.        , 0.00071891]),\n",
       " array([-5.18790328, -4.90970574, -4.6315082 , -4.35331066, -4.07511312,\n",
       "        -3.79691557, -3.51871803, -3.24052049, -2.96232295, -2.68412541,\n",
       "        -2.40592787, -2.12773033, -1.84953279, -1.57133525, -1.29313771,\n",
       "        -1.01494017, -0.73674263, -0.45854509, -0.18034755,  0.09784999,\n",
       "         0.37604753,  0.65424507,  0.93244261,  1.21064015,  1.48883769,\n",
       "         1.76703523,  2.04523277,  2.32343031,  2.60162785,  2.8798254 ,\n",
       "         3.15802294,  3.43622048,  3.71441802,  3.99261556,  4.2708131 ,\n",
       "         4.54901064,  4.82720818,  5.10540572,  5.38360326,  5.6618008 ,\n",
       "         5.93999834]),\n",
       " <a list of 40 Patch objects>)"
      ]
     },
     "execution_count": 7,
     "metadata": {},
     "output_type": "execute_result"
    },
    {
     "data": {
      "image/png": "[encoded data removed]",
      "text/plain": [
       "<Figure size 432x288 with 1 Axes>"
      ]
     },
     "metadata": {
      "needs_background": "light"
     },
     "output_type": "display_data"
    }
   ],
   "source": [
    "# Місце для Вашого коду\n",
    "from scipy.stats import norm\n",
    "\n",
    "norm_rvs1 = norm.rvs(size=10_000)\n",
    "norm_rvs2 = norm.rvs(size=10_000)\n",
    "\n",
    "eta_rvs = norm_rvs1 + norm_rvs2\n",
    "\n",
    "x = np.arange(-6, 10, 0.1)\n",
    "y = norm(0, np.sqrt(2)).pdf(x)\n",
    "plt.plot(x, y, 'r--')\n",
    "\n",
    "plt.hist(eta_rvs, rwidth=0.8, bins=40, density=True)\n"
   ]
  },
  {
   "cell_type": "markdown",
   "metadata": {},
   "source": [
    "### 2.2 Перетворення Бокса-Мюллера"
   ]
  },
  {
   "cell_type": "markdown",
   "metadata": {},
   "source": [
    "Розглянемо дві випадкові величини $\\xi_1, \\xi_2$ зі стандартного рівномірного розподілу.\n",
    "Тобто $\\xi_1, \\xi_2 \\sim Uniform(0, 1)$.\n",
    "\n",
    "Тоді випадкові величини\n",
    "$$\\zeta_1 = \\sqrt{-2 \\log{\\xi_1}} \\cos(2 \\pi \\xi_2)$$,\n",
    "$$\\zeta_2 = \\sqrt{-2 \\log{\\xi_1}} \\sin(2 \\pi \\xi_2)$$\n",
    "незалежні та мають стандартний нормальний розподіл.\n",
    "1. Згенеруйте $n = 10000$ значень випадкових величин $\\xi_1, \\xi_2$;\n",
    "2. Отримайте $n = 10000$ значень випадкової величини $\\zeta_1$;\n",
    "3. Зобразіть на графіку:\n",
    "   - нормовану гістограму отриманих $n = 10000$ значень випадкової величини $\\zeta_1$;\n",
    "   - функцію щільності випадкової величини $\\zeta_1$.\n",
    "4. Зобразіть на графіку:\n",
    "   - нормовану гістограму отриманих $n = 10000$ значень випадкової величини $\\zeta_2$;\n",
    "   - функцію щільності випадкової величини $\\zeta_2$."
   ]
  },
  {
   "cell_type": "code",
   "execution_count": 8,
   "metadata": {},
   "outputs": [
    {
     "data": {
      "text/plain": [
       "[]"
      ]
     },
     "execution_count": 8,
     "metadata": {},
     "output_type": "execute_result"
    },
    {
     "data": {
      "image/png": "[encoded data removed]",
      "text/plain": [
       "<Figure size 1080x360 with 2 Axes>"
      ]
     },
     "metadata": {
      "needs_background": "light"
     },
     "output_type": "display_data"
    }
   ],
   "source": [
    "# Місце для Вашого коду\n",
    "from scipy.stats import uniform\n",
    "\n",
    "rv1 = uniform(0, 1)\n",
    "rv2 = uniform(0, 1)\n",
    "\n",
    "rvs1 = rv1.rvs(size=10_000)\n",
    "rvs2 = rv2.rvs(size=10_000)\n",
    "x = np.arange(-6, 6, 0.1)\n",
    "y = norm.pdf(x)\n",
    "\n",
    "rvs_dzeta1 = np.sqrt(-2 * np.log(rvs1)) * np.cos(2 * np.pi * rvs2)\n",
    "rvs_dzeta2 = np.sqrt(-2 * np.log(rvs1)) * np.sin(2 * np.pi * rvs2)\n",
    "\n",
    "fig, axs = plt.subplots(1, 2, figsize=(15, 5))\n",
    "axs[0].hist(rvs_dzeta1, bins=40, rwidth=0.8, density=True)\n",
    "axs[0].plot(x, y, 'r--')\n",
    "\n",
    "axs[1].hist(rvs_dzeta2, bins=40, rwidth=0.8, density=True)\n",
    "axs[1].plot(x, y, 'r--')\n",
    "\n",
    "plt.plot()\n",
    "\n"
   ]
  }
 ],
 "metadata": {
  "kernelspec": {
   "display_name": "Python 3",
   "language": "python",
   "name": "python3"
  },
  "language_info": {
   "codemirror_mode": {
    "name": "ipython",
    "version": 3
   },
   "file_extension": ".py",
   "mimetype": "text/x-python",
   "name": "python",
   "nbconvert_exporter": "python",
   "pygments_lexer": "ipython3",
   "version": "3.7.4"
  }
 },
 "nbformat": 4,
 "nbformat_minor": 1
}
